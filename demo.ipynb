{
 "cells": [
  {
   "cell_type": "markdown",
   "metadata": {},
   "source": [
    "# G y m n a s i o n\n",
    "\n",
    "Algorithmic literary training/progymnasmata.  Reads what the human writes, then asks questions, issues commands, and gently chides.  "
   ]
  },
  {
   "cell_type": "code",
   "execution_count": 2,
   "metadata": {},
   "outputs": [
    {
     "name": "stderr",
     "output_type": "stream",
     "text": [
      "Using Theano backend.\n"
     ]
    },
    {
     "name": "stdout",
     "output_type": "stream",
     "text": [
      "Loading SpaCy model.\n",
      "Loading word2vec model.\n",
      "Loading keras model for authorship classification.\n",
      "Loading and processing quotes.\n"
     ]
    }
   ],
   "source": [
    "from gymnasion import Gymnasion"
   ]
  },
  {
   "cell_type": "code",
   "execution_count": 3,
   "metadata": {
    "collapsed": true
   },
   "outputs": [],
   "source": [
    "from gymnasion import nlp ## SpaCy"
   ]
  },
  {
   "cell_type": "code",
   "execution_count": 4,
   "metadata": {},
   "outputs": [],
   "source": [
    "g = Gymnasion()"
   ]
  },
  {
   "cell_type": "code",
   "execution_count": 5,
   "metadata": {
    "collapsed": true
   },
   "outputs": [],
   "source": [
    "import random\n",
    "random.seed(\"?\")"
   ]
  },
  {
   "cell_type": "markdown",
   "metadata": {
    "collapsed": true
   },
   "source": [
    "## Elaboration\n",
    "\n",
    "Gymnasion can encourage elaboration.  These functions rely on a collection of word relations --- `(adj,noun)` and `(s,v,o)` triples --- extracted from a large number of Project Gutenberg texts. (See `mining_gutenberg.ipynb`)."
   ]
  },
  {
   "cell_type": "code",
   "execution_count": 6,
   "metadata": {},
   "outputs": [
    {
     "data": {
      "text/plain": [
       "u'What could the forest suffer?'"
      ]
     },
     "execution_count": 6,
     "metadata": {},
     "output_type": "execute_result"
    }
   ],
   "source": [
    "g.return_question_about_verb(nlp(u\"I see a forest.\"))"
   ]
  },
  {
   "cell_type": "code",
   "execution_count": 7,
   "metadata": {},
   "outputs": [
    {
     "data": {
      "text/plain": [
       "u'What did the fern do to the fronds?'"
      ]
     },
     "execution_count": 7,
     "metadata": {},
     "output_type": "execute_result"
    }
   ],
   "source": [
    "g.return_question_about_object(nlp(u\"I harvest a fern.\"))"
   ]
  },
  {
   "cell_type": "code",
   "execution_count": 8,
   "metadata": {},
   "outputs": [
    {
     "data": {
      "text/plain": [
       "u'What sort of swan? Beautiful? Stately?'"
      ]
     },
     "execution_count": 8,
     "metadata": {},
     "output_type": "execute_result"
    }
   ],
   "source": [
    "g.return_question_about_adjectives(nlp(u\"Who will obtain that swan for me?\"))"
   ]
  },
  {
   "cell_type": "markdown",
   "metadata": {},
   "source": [
    "Another technique uses a word2vec model to suggest similar nouns."
   ]
  },
  {
   "cell_type": "code",
   "execution_count": 9,
   "metadata": {},
   "outputs": [
    {
     "data": {
      "text/plain": [
       "u\"You've sung me road...now sing me highways...footpaths...gravel roads...\""
      ]
     },
     "execution_count": 9,
     "metadata": {},
     "output_type": "execute_result"
    }
   ],
   "source": [
    "g.return_word2vec_suggestions(nlp(u\"I drink a road.\"))"
   ]
  },
  {
   "cell_type": "markdown",
   "metadata": {},
   "source": [
    "Gymnasion also asks about certain named entities (people, places)."
   ]
  },
  {
   "cell_type": "code",
   "execution_count": 10,
   "metadata": {},
   "outputs": [
    {
     "data": {
      "text/plain": [
       "'Now sing me of the youth of Joshua...'"
      ]
     },
     "execution_count": 10,
     "metadata": {},
     "output_type": "execute_result"
    }
   ],
   "source": [
    "g.return_comment_about_ents(nlp(u\"Joshua sees the mountain.\"))"
   ]
  },
  {
   "cell_type": "markdown",
   "metadata": {},
   "source": [
    "## Imitation\n",
    "\n",
    "Gymnasion encourages the poet to imitate a quotation or to complete the a fragmented quotation.  From a corpus of quotations or quotation fragments, Gymnasion picks recommends one that is semantically similar to the poet's input text according to [Word Mover Distance](https://chara.cs.illinois.edu/sites/fa16-cs591txt/pdf/Kusner-2015-ICML.pdf)."
   ]
  },
  {
   "cell_type": "code",
   "execution_count": 11,
   "metadata": {},
   "outputs": [
    {
     "data": {
      "text/plain": [
       "u'Absorb these words: \\n\"It were as well to be educated in the shadow of a mountain as in more classic shade.  \"'"
      ]
     },
     "execution_count": 11,
     "metadata": {},
     "output_type": "execute_result"
    }
   ],
   "source": [
    "g.return_quote_according_to_word_mover_distance(nlp(u\"I see a mountain.\"))"
   ]
  },
  {
   "cell_type": "code",
   "execution_count": 12,
   "metadata": {},
   "outputs": [
    {
     "name": "stdout",
     "output_type": "stream",
     "text": [
      "Now finish this true sentence: \n",
      "\"For a climber, saying that you are stopping by Everest is like...\"\n"
     ]
    }
   ],
   "source": [
    "print g.return_quote_stub_according_to_word_mover_distance(nlp(u\"I see a mountain.\"))"
   ]
  },
  {
   "cell_type": "markdown",
   "metadata": {},
   "source": [
    "Gymnasion demands that the poet imitate an author.  An lstm neural network has been trained to distinguish between several authors.  Gymnasion uses the resulting model to judge the success of the poet's imitation."
   ]
  },
  {
   "cell_type": "code",
   "execution_count": 13,
   "metadata": {},
   "outputs": [
    {
     "name": "stdout",
     "output_type": "stream",
     "text": [
      "Try that again, in the style of Whitman.\n"
     ]
    }
   ],
   "source": [
    "print g.return_comment_about_authorial_imitation(nlp(u\"I was wandering up a hill when I got hungry and ate a hawk.\"))"
   ]
  },
  {
   "cell_type": "code",
   "execution_count": 14,
   "metadata": {},
   "outputs": [
    {
     "name": "stdout",
     "output_type": "stream",
     "text": [
      "Your style is muddled.\n",
      "\n",
      "# neural authorship classification #\n",
      "###################################################################################\n",
      "██████████████████████████████████████████████████  0.500  --Similarity Threshold--\n",
      "█████                                               0.060  dickinson               \n",
      "                                                    0.009  nietzsche               \n",
      "                                                    0.003  emerson                 \n",
      "                                                    0.001  whitman                 \n",
      "                                                    0.000  christina rossetti      \n",
      "                                                    0.000  austen                  \n"
     ]
    }
   ],
   "source": [
    "print g.return_comment_about_authorial_imitation(nlp(u\"I converse with the hawk upon the hill, the old man.\"))"
   ]
  },
  {
   "cell_type": "markdown",
   "metadata": {},
   "source": [
    "## Variation\n",
    "\n",
    "Gymnasion will get bored and ban certain words and related words."
   ]
  },
  {
   "cell_type": "code",
   "execution_count": 15,
   "metadata": {},
   "outputs": [
    {
     "data": {
      "text/plain": [
       "u\"I forbid you from singing of bird or this word's kindred.\""
      ]
     },
     "execution_count": 15,
     "metadata": {},
     "output_type": "execute_result"
    }
   ],
   "source": [
    "g.return_word_banishment(nlp(u'I would drink that bird.'))"
   ]
  },
  {
   "cell_type": "code",
   "execution_count": 16,
   "metadata": {},
   "outputs": [
    {
     "data": {
      "text/plain": [
       "u'Try harder.\\n I said not to sing of bird, and yet you sing of hawk...'"
      ]
     },
     "execution_count": 16,
     "metadata": {},
     "output_type": "execute_result"
    }
   ],
   "source": [
    "g.return_check_words_in_sentence(nlp(u\"I hide in that hawk.\"))"
   ]
  },
  {
   "cell_type": "markdown",
   "metadata": {},
   "source": [
    "It will also comment upon frequently used syntax patterns."
   ]
  },
  {
   "cell_type": "code",
   "execution_count": 17,
   "metadata": {
    "collapsed": true
   },
   "outputs": [],
   "source": [
    "g.poem = \"I dwell in the mountain of rocks.  I sing in the hills.  I sleep in the furnace in Roubaix.  I dream of the quinces.\""
   ]
  },
  {
   "cell_type": "code",
   "execution_count": 18,
   "metadata": {},
   "outputs": [
    {
     "name": "stdout",
     "output_type": "stream",
     "text": [
      "Give me more of this wordfruit:\n",
      "    \"I dwell in the mountain\"\n",
      "   \"I sing in the hills\"\n",
      "     \"I sleep in the furnace\"\n"
     ]
    }
   ],
   "source": [
    "print g.return_repetition_judgment_syntax(nlp(u\"I burrow in the slumber.\"))"
   ]
  },
  {
   "cell_type": "markdown",
   "metadata": {},
   "source": [
    "## Cohesive Backtracking "
   ]
  },
  {
   "cell_type": "markdown",
   "metadata": {},
   "source": [
    "Gymnasion may ask the poet to turn back to earlier noun phrases, folding the poem in upon itself."
   ]
  },
  {
   "cell_type": "code",
   "execution_count": 19,
   "metadata": {},
   "outputs": [
    {
     "data": {
      "text/plain": [
       "u'You must learn to focus. Tell me more about the hills.'"
      ]
     },
     "execution_count": 19,
     "metadata": {},
     "output_type": "execute_result"
    }
   ],
   "source": [
    "g.boredom = 20\n",
    "g.return_a_command_to_recall_earlier_noun(nlp(u\"You are the mountain.\"))"
   ]
  },
  {
   "cell_type": "code",
   "execution_count": 20,
   "metadata": {},
   "outputs": [
    {
     "data": {
      "text/plain": [
       "u'Now compare the hills to the pear. Which is closer to the divine?'"
      ]
     },
     "execution_count": 20,
     "metadata": {},
     "output_type": "execute_result"
    }
   ],
   "source": [
    "g.boredom = 20\n",
    "g.return_a_command_for_comparison(nlp(u'You are the pear.'))"
   ]
  },
  {
   "cell_type": "markdown",
   "metadata": {},
   "source": [
    "***\n",
    "\n",
    "Running `python gymnasion.py` (or, having imported the module, `g.phonaskos()`) activates a chat loop in which the Gymnasion randomly chooses one of its functions at each step."
   ]
  }
 ],
 "metadata": {
  "kernelspec": {
   "display_name": "Python 2",
   "language": "python",
   "name": "python2"
  },
  "language_info": {
   "codemirror_mode": {
    "name": "ipython",
    "version": 2
   },
   "file_extension": ".py",
   "mimetype": "text/x-python",
   "name": "python",
   "nbconvert_exporter": "python",
   "pygments_lexer": "ipython2",
   "version": "2.7.13"
  }
 },
 "nbformat": 4,
 "nbformat_minor": 2
}
